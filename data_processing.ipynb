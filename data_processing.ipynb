{
 "cells": [
  {
   "cell_type": "code",
   "execution_count": 14,
   "metadata": {},
   "outputs": [
    {
     "name": "stdout",
     "output_type": "stream",
     "text": [
      "Collecting PillowNote: you may need to restart the kernel to use updated packages.\n",
      "\n",
      "  Downloading pillow-10.3.0-cp312-cp312-win_amd64.whl.metadata (9.4 kB)\n",
      "Downloading pillow-10.3.0-cp312-cp312-win_amd64.whl (2.5 MB)\n",
      "   ---------------------------------------- 0.0/2.5 MB ? eta -:--:--\n",
      "   ---------------------------------------- 0.0/2.5 MB ? eta -:--:--\n",
      "   ---------------------------------------- 0.0/2.5 MB 325.1 kB/s eta 0:00:08\n",
      "    --------------------------------------- 0.1/2.5 MB 465.5 kB/s eta 0:00:06\n",
      "   - -------------------------------------- 0.1/2.5 MB 726.2 kB/s eta 0:00:04\n",
      "   -- ------------------------------------- 0.2/2.5 MB 871.5 kB/s eta 0:00:03\n",
      "   ---- ----------------------------------- 0.3/2.5 MB 1.0 MB/s eta 0:00:03\n",
      "   ---- ----------------------------------- 0.3/2.5 MB 999.9 kB/s eta 0:00:03\n",
      "   ------ --------------------------------- 0.4/2.5 MB 1.1 MB/s eta 0:00:02\n",
      "   ------ --------------------------------- 0.4/2.5 MB 1.1 MB/s eta 0:00:02\n",
      "   ------- -------------------------------- 0.5/2.5 MB 1.1 MB/s eta 0:00:02\n",
      "   ------- -------------------------------- 0.5/2.5 MB 1.1 MB/s eta 0:00:02\n",
      "   --------- ------------------------------ 0.6/2.5 MB 1.1 MB/s eta 0:00:02\n",
      "   --------- ------------------------------ 0.6/2.5 MB 1.0 MB/s eta 0:00:02\n",
      "   ---------- ----------------------------- 0.7/2.5 MB 1.1 MB/s eta 0:00:02\n",
      "   ----------- ---------------------------- 0.7/2.5 MB 1.1 MB/s eta 0:00:02\n",
      "   ------------- -------------------------- 0.8/2.5 MB 1.2 MB/s eta 0:00:02\n",
      "   ------------- -------------------------- 0.9/2.5 MB 1.1 MB/s eta 0:00:02\n",
      "   --------------- ------------------------ 1.0/2.5 MB 1.2 MB/s eta 0:00:02\n",
      "   ---------------- ----------------------- 1.1/2.5 MB 1.2 MB/s eta 0:00:02\n",
      "   ----------------- ---------------------- 1.1/2.5 MB 1.3 MB/s eta 0:00:02\n",
      "   ------------------- -------------------- 1.2/2.5 MB 1.3 MB/s eta 0:00:02\n",
      "   ------------------- -------------------- 1.2/2.5 MB 1.3 MB/s eta 0:00:02\n",
      "   -------------------- ------------------- 1.3/2.5 MB 1.2 MB/s eta 0:00:02\n",
      "   --------------------- ------------------ 1.4/2.5 MB 1.3 MB/s eta 0:00:01\n",
      "   ----------------------- ---------------- 1.5/2.5 MB 1.3 MB/s eta 0:00:01\n",
      "   ------------------------- -------------- 1.6/2.5 MB 1.4 MB/s eta 0:00:01\n",
      "   -------------------------- ------------- 1.7/2.5 MB 1.4 MB/s eta 0:00:01\n",
      "   --------------------------- ------------ 1.7/2.5 MB 1.4 MB/s eta 0:00:01\n",
      "   ----------------------------- ---------- 1.9/2.5 MB 1.4 MB/s eta 0:00:01\n",
      "   ------------------------------- -------- 2.0/2.5 MB 1.4 MB/s eta 0:00:01\n",
      "   --------------------------------- ------ 2.1/2.5 MB 1.5 MB/s eta 0:00:01\n",
      "   ---------------------------------- ----- 2.2/2.5 MB 1.5 MB/s eta 0:00:01\n",
      "   ----------------------------------- ---- 2.3/2.5 MB 1.5 MB/s eta 0:00:01\n",
      "   -------------------------------------- - 2.4/2.5 MB 1.6 MB/s eta 0:00:01\n",
      "   ---------------------------------------  2.5/2.5 MB 1.6 MB/s eta 0:00:01\n",
      "   ---------------------------------------- 2.5/2.5 MB 1.6 MB/s eta 0:00:00\n",
      "Installing collected packages: Pillow\n",
      "Successfully installed Pillow-10.3.0\n"
     ]
    }
   ],
   "source": [
    "# %pip install datasets\n",
    "%pip install Pillow"
   ]
  },
  {
   "cell_type": "markdown",
   "metadata": {},
   "source": [
    "Image dataset:\n",
    "    To get the data needed for our models, I tried to make a dataset containing both real data (from existing video games or forums) and synthetic data (using environments in game engines such as Unity or Unreal engine). \n",
    "    For the real data, no complete dataset can be found on the internet for my specific needs, so I decided to work with the dataset provided by GlitchBench, but I need to alter the labelling as follows:\n",
    "        Physics, Collision and Spawn Issues -> Collision Issues\n",
    "        Rendering and Texture Issues -> Texture Issues\n",
    "        Camera, User Interface and Lighting Issues -> Lighting Issues\n",
    "        Animation and Pose Errors -> Animation Issues\n",
    "        Normal Images -> No Issues were found\n",
    "    \n",
    "    Now, in order to balance the dataset, I need to add some synthetic data that will follow the same labelling system\n",
    "\n",
    "\n",
    "Video dataset:\n",
    "    "
   ]
  },
  {
   "cell_type": "code",
   "execution_count": 1,
   "metadata": {},
   "outputs": [
    {
     "name": "stderr",
     "output_type": "stream",
     "text": [
      "c:\\Users\\liciu\\anaconda3\\envs\\video-games-glitch-detection\\Lib\\site-packages\\tqdm\\auto.py:21: TqdmWarning: IProgress not found. Please update jupyter and ipywidgets. See https://ipywidgets.readthedocs.io/en/stable/user_install.html\n",
      "  from .autonotebook import tqdm as notebook_tqdm\n"
     ]
    }
   ],
   "source": [
    "from datasets import load_dataset\n",
    "from PIL import Image\n",
    "\n",
    "dataset = load_dataset(\"glitchbench/GlitchBench\")"
   ]
  },
  {
   "cell_type": "code",
   "execution_count": 23,
   "metadata": {},
   "outputs": [
    {
     "name": "stdout",
     "output_type": "stream",
     "text": [
      "{'image': <PIL.PngImagePlugin.PngImageFile image mode=RGB size=1280x720 at 0x1B0663C9DC0>, 'id': 'slice_0_jfak54-0003', 'reddit': 'jfak54', 'glitch-type': 'Physics, Collision, and Spawn', 'game': 'AC Odyssey', 'source': 'Social Media', 'description': 'secret', '__index_level_0__': 565}\n"
     ]
    }
   ],
   "source": [
    "#Split the dataset into training, validation and test sets\n",
    "# training - 80%, validation - 10%, test - 10%\n",
    "import numpy as np\n",
    "import os\n",
    "\n",
    "\n",
    "\n",
    "#Then we split the images into training, validation and test sets\n",
    "def split_dataset(images):\n",
    "    train_split = int(0.8 * len(images))\n",
    "    val_split = int(0.1 * len(images))\n",
    "\n",
    "    #print(train_split)\n",
    "    #print(val_split)\n",
    "\n",
    "    train_images = images[:train_split]\n",
    "    val_images = images[train_split:train_split+val_split]\n",
    "    test_images = images[train_split+val_split:]\n",
    "\n",
    "    #print(len(train_images))\n",
    "    #print(len(val_images))\n",
    "    #print(len(test_images))\n",
    "    return train_images, val_images, test_images\n",
    "\n",
    "\n",
    "#Save the images and the labels to the disk\n",
    "def save_images(images, folder):\n",
    "    for i in range(len(images)):\n",
    "        #print(images[i]['image'])\n",
    "        image = images[i]['image']\n",
    "        image.save(os.path.join(\"images\", folder, images[i]['id'] + \".png\"))\n",
    "\n",
    "\n",
    "def save_labels(images, folder):\n",
    "    with open(os.path.join(\"labels\", folder + \".txt\"), \"w\") as f:\n",
    "        for image in images:\n",
    "            label = image['glitch-type']\n",
    "            if label.find(\"Collision\") != -1:\n",
    "                label = \"Collision Issues\"\n",
    "            elif label.find(\"Texture\") != -1:\n",
    "                label = \"Texture Issues\"\n",
    "            elif label.find(\"Lighting\") != -1:\n",
    "                label = \"Lighting Issues\"\n",
    "            elif label.find(\"Animation\") != -1:\n",
    "                label = \"Animation Issues\"\n",
    "            else:\n",
    "                label = \"No issue\"\n",
    "\n",
    "            f.write(image['id'] + \" \" + label + \"\\n\")\n",
    "\n",
    "\n",
    "\n",
    "if __name__ == \"__main__\":\n",
    "    images = [dataset['validation'][i] for i in range(len(dataset['validation']))]\n",
    "    #np.random.shuffle(images)\n",
    "    train_images, val_images, test_images = split_dataset(images)\n",
    "    print(train_images[0])\n",
    "    #save_images(train_images, \"train_images\")\n",
    "    #save_images(val_images, \"validation_images\")\n",
    "    #save_images(test_images, \"test_images\")\n",
    "\n",
    "    #save_labels(train_images, \"train_labels\")\n",
    "    #save_labels(val_images, \"validation_labels\")\n",
    "    #save_labels(test_images, \"test_labels\")\n",
    "\n",
    "#slice_50_e4nprh-0211"
   ]
  }
 ],
 "metadata": {
  "kernelspec": {
   "display_name": "video-games-glitch-detection",
   "language": "python",
   "name": "python3"
  },
  "language_info": {
   "codemirror_mode": {
    "name": "ipython",
    "version": 3
   },
   "file_extension": ".py",
   "mimetype": "text/x-python",
   "name": "python",
   "nbconvert_exporter": "python",
   "pygments_lexer": "ipython3",
   "version": "3.12.3"
  }
 },
 "nbformat": 4,
 "nbformat_minor": 2
}
